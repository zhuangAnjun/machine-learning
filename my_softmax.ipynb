{
 "cells": [
  {
   "cell_type": "code",
   "execution_count": 6,
   "metadata": {
    "collapsed": true
   },
   "outputs": [],
   "source": [
    "import numpy as np\n",
    "import tensorflow as tf"
   ]
  },
  {
   "cell_type": "markdown",
   "metadata": {},
   "source": [
    "softmax(x-a)=softmax(a), using it can avoid exp(x) become inf\n",
    "\n",
    "And this softmax function parameter x can be matrix and vecter. If x is a matrix, this function computer the softmax prediction for each row."
   ]
  },
  {
   "cell_type": "code",
   "execution_count": 4,
   "metadata": {
    "collapsed": true
   },
   "outputs": [],
   "source": [
    "def softmax(X):\n",
    "    \n",
    "    #get the vecture shape\n",
    "    X_shape = X.shape;\n",
    "    \n",
    "    #transform X\n",
    "    X = X.T\n",
    "    \n",
    "    Max = np.max(X, axis=0)\n",
    "    \n",
    "    #reduce X, avoid exp(X) become inf\n",
    "    X = X - Max\n",
    "    \n",
    "    #y=softmax(x)\n",
    "    Y = np.exp(X)/np.sum(np.exp(X), axis=0)\n",
    "    \n",
    "    Y=Y.T\n",
    "    \n",
    "    return Y"
   ]
  },
  {
   "cell_type": "code",
   "execution_count": 20,
   "metadata": {},
   "outputs": [],
   "source": [
    "x = np.array([[1,2,3],[2,4,3]], dtype=np.float32)"
   ]
  },
  {
   "cell_type": "code",
   "execution_count": 21,
   "metadata": {},
   "outputs": [
    {
     "name": "stdout",
     "output_type": "stream",
     "text": [
      "[[ 0.09003057  0.24472848  0.66524094]\n",
      " [ 0.09003057  0.66524088  0.24472846]]\n"
     ]
    }
   ],
   "source": [
    "y = softmax(x)\n",
    "print(y)"
   ]
  },
  {
   "cell_type": "code",
   "execution_count": 22,
   "metadata": {},
   "outputs": [
    {
     "name": "stdout",
     "output_type": "stream",
     "text": [
      "[[ 0.09003057  0.24472848  0.66524094]\n",
      " [ 0.09003057  0.66524088  0.24472845]]\n"
     ]
    }
   ],
   "source": [
    "y = tf.nn.softmax(x)\n",
    "with tf.Session() as sess:\n",
    "    print(sess.run(y))\n",
    "    sess.close()"
   ]
  },
  {
   "cell_type": "code",
   "execution_count": null,
   "metadata": {
    "collapsed": true
   },
   "outputs": [],
   "source": []
  }
 ],
 "metadata": {
  "kernelspec": {
   "display_name": "Python 3",
   "language": "python",
   "name": "python3"
  },
  "language_info": {
   "codemirror_mode": {
    "name": "ipython",
    "version": 3
   },
   "file_extension": ".py",
   "mimetype": "text/x-python",
   "name": "python",
   "nbconvert_exporter": "python",
   "pygments_lexer": "ipython3",
   "version": "3.6.1"
  }
 },
 "nbformat": 4,
 "nbformat_minor": 2
}
